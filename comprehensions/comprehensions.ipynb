{
 "cells": [
  {
   "cell_type": "markdown",
   "id": "b2a64290",
   "metadata": {},
   "source": [
    "<div class=\"licence\">\n",
    "<span>Licence CC BY-NC-ND</span>\n",
    "<span>Thierry Parmentelat &amp; Arnaud Legout</span>\n",
    "<span><img src=\"media/both-logos-small-alpha.png\" /></span>\n",
    "</div>"
   ]
  },
  {
   "cell_type": "markdown",
   "id": "6de65dc7",
   "metadata": {},
   "source": [
    "# Compréhensions"
   ]
  },
  {
   "cell_type": "markdown",
   "id": "59350520",
   "metadata": {},
   "source": [
    "## Exercice - niveau basique\n",
    "\n",
    "Il vous est demandé d'écrire une fonction `aplatir` qui prend *un unique* argument `l_conteneurs` qui est une liste (ou plus généralement un itérable) de conteneurs (ou plus généralement d'itérables), et qui retourne la liste de tous les éléments de tous les conteneurs."
   ]
  },
  {
   "cell_type": "code",
   "execution_count": null,
   "id": "32dfb0ac",
   "metadata": {},
   "outputs": [],
   "source": [
    "# par exemple\n",
    "from corrections.exo_aplatir import exo_aplatir\n",
    "exo_aplatir.example()"
   ]
  },
  {
   "cell_type": "code",
   "execution_count": null,
   "id": "187a7d79",
   "metadata": {},
   "outputs": [],
   "source": [
    "def aplatir(*l_conteneurs):\n",
    "    return [a for iterable in l_conteneurs for b in iterable for a in b]"
   ]
  },
  {
   "cell_type": "code",
   "execution_count": null,
   "id": "41271b24",
   "metadata": {},
   "outputs": [],
   "source": [
    "# vérifier votre code\n",
    "exo_aplatir.correction(aplatir)"
   ]
  },
  {
   "cell_type": "markdown",
   "id": "842e329d",
   "metadata": {},
   "source": [
    "## Exercice - niveau intermédiaire\n",
    "\n",
    "À présent, on passe en argument deux conteneurs (deux itérables) `c1` et `c2` de même taille à la fonction `alternat`, qui doit construire une liste contenant les éléments pris alternativement dans `c1` et dans `c2`."
   ]
  },
  {
   "cell_type": "code",
   "execution_count": null,
   "id": "83f44baa",
   "metadata": {
    "scrolled": true
   },
   "outputs": [],
   "source": [
    "# exemple\n",
    "from corrections.exo_alternat import exo_alternat\n",
    "exo_alternat.example()"
   ]
  },
  {
   "cell_type": "markdown",
   "id": "07af6a92",
   "metadata": {},
   "source": [
    "**Indice** pour cet exercice il peut être pertinent de recourir à la fonction *built-in* `zip`."
   ]
  },
  {
   "cell_type": "code",
   "execution_count": null,
   "id": "85e9c2f0",
   "metadata": {
    "scrolled": true
   },
   "outputs": [],
   "source": [
    "def aplatir_bis(*l_conteneurs):\n",
    "    return [a for iterable in l_conteneurs for a in iterable]\n",
    "\n",
    "def alternat(c1, c2):\n",
    "    return aplatir([(a, b) for a,b in zip(aplatir_bis(c1), aplatir_bis(c2))])"
   ]
  },
  {
   "cell_type": "code",
   "execution_count": null,
   "id": "739a931e",
   "metadata": {},
   "outputs": [],
   "source": [
    "# pour vérifier votre code\n",
    "exo_alternat.correction(alternat)"
   ]
  },
  {
   "cell_type": "markdown",
   "id": "55ba36b3",
   "metadata": {},
   "source": [
    "## Exercice - niveau intermédiaire"
   ]
  },
  {
   "cell_type": "markdown",
   "id": "0d5985de",
   "metadata": {},
   "source": [
    "On se donne deux ensembles A et B de tuples de la forme\n",
    "\n",
    "```python\n",
    "(entier, valeur)\n",
    "```\n",
    "\n",
    "On vous demande d'écrire une fonction `intersect` qui retourne l'ensemble des objets `valeur` associés (dans A ou dans B) à un entier qui soit présent dans (un tuple de) A *et* dans (un tuple de) B."
   ]
  },
  {
   "cell_type": "code",
   "execution_count": null,
   "id": "2f357b79",
   "metadata": {},
   "outputs": [],
   "source": [
    "# un exemple\n",
    "from corrections.exo_intersect import exo_intersect\n",
    "exo_intersect.example()"
   ]
  },
  {
   "cell_type": "code",
   "execution_count": null,
   "id": "f16b9082",
   "metadata": {},
   "outputs": [],
   "source": [
    "def intersect(A, B):\n",
    "    return set(aplatir({(dict(A)[i],dict(B)[i]) for i in dict(A) if (i in dict(A)) & (i in dict(B))}))"
   ]
  },
  {
   "cell_type": "code",
   "execution_count": null,
   "id": "7523ecc2",
   "metadata": {},
   "outputs": [],
   "source": [
    "# pour vérifier votre code\n",
    "exo_intersect.correction(intersect)"
   ]
  }
 ],
 "metadata": {
  "jupytext": {
   "cell_metadata_filter": "all, -hidden, -heading_collapsed, -run_control, -trusted",
   "notebook_metadata_filter": "all, -jupytext.text_representation.jupytext_version, -jupytext.text_representation.format_version, -language_info.version, -language_info.codemirror_mode.version, -language_info.codemirror_mode, -language_info.file_extension, -language_info.mimetype, -toc",
   "text_representation": {
    "extension": ".md",
    "format_name": "myst"
   }
  },
  "kernelspec": {
   "display_name": "Python 3 (ipykernel)",
   "language": "python",
   "name": "python3"
  },
  "language_info": {
   "name": "python",
   "nbconvert_exporter": "python",
   "pygments_lexer": "ipython3"
  },
  "notebookname": "Compréhensions",
  "version": "3.0"
 },
 "nbformat": 4,
 "nbformat_minor": 5
}
