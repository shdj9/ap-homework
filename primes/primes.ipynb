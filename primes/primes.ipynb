{
 "cells": [
  {
   "cell_type": "markdown",
   "id": "10f844d0",
   "metadata": {},
   "source": [
    "<div class=\"licence\">\n",
    "<span>Licence CC BY-NC-ND</span>\n",
    "<span>Thierry Parmentelat &amp; Arnaud Legout</span>\n",
    "<span><img src=\"media/both-logos-small-alpha.png\" /></span>\n",
    "</div>"
   ]
  },
  {
   "cell_type": "markdown",
   "id": "ca8f891d",
   "metadata": {},
   "source": [
    "# Exercice - niveau avancé"
   ]
  },
  {
   "cell_type": "markdown",
   "id": "e52c7412",
   "metadata": {},
   "source": [
    "## itérateurs et générateurs\n",
    "\n",
    "**Tous les exercices** de ce notebook vous demandent d'écrire\n",
    "des fonctions qui **construisent des itérateurs**."
   ]
  },
  {
   "cell_type": "code",
   "execution_count": null,
   "id": "a54b319a",
   "metadata": {},
   "outputs": [],
   "source": [
    "import itertools"
   ]
  },
  {
   "cell_type": "markdown",
   "id": "4de14a28",
   "metadata": {},
   "source": [
    "## 1. Nombres premiers"
   ]
  },
  {
   "cell_type": "markdown",
   "id": "52086e6e",
   "metadata": {},
   "source": [
    "On vous demande d'écrire un générateur qui énumère les nombres premiers.\n",
    "\n",
    "Naturellement il existe de nombreuses biliothèques pour cela, mais on vous demande ici d'écrire votre propre algorithme, même s'il est naïf."
   ]
  },
  {
   "cell_type": "code",
   "execution_count": null,
   "id": "979f9a9d",
   "metadata": {},
   "outputs": [],
   "source": [
    "from corrections.gen_primes import exo_primes\n",
    "exo_primes.example()"
   ]
  },
  {
   "cell_type": "markdown",
   "id": "1521231f",
   "metadata": {},
   "source": [
    "Le générateur ne s'arrête donc jamais, c'est un générateur infini comme `itertools.count()`.\n",
    "Le système de correction automatique est capable d'extraire certaines parties du flux du générateur, avec une convention voisine de `range()` et/ou du *slicing*.\n",
    "\n",
    "Ainsi par exemple le deuxième jeu de test, sous-titré `1 → 5 / 2`, va retenir les éléments énumérés par le générateur aux itérations *1, 3 et 5* - en commençant bien sûr à compter à 0."
   ]
  },
  {
   "cell_type": "markdown",
   "id": "5badf6b9",
   "metadata": {},
   "source": [
    "**NOTES**\n",
    "\n",
    "* Évidemment, il vous faut retourner un itérateur, et la correction automatique vérifiera ce point.\n",
    "* Notez aussi que, lorsqu'on cherche à déterminer si $n$ est entier, on a nécessairement déjà fait ce travail sur tous les entiers plus petits que $n$. Il est donc tentant, et fortement recommandé, de profiter de cette information pour accélérer l'algorithme.\n",
    "* Si votre algorithme est très lent ou faux, vous pouvez *perdre* le *kernel* (en français noyau), c'est-à-dire qu'il calcule pendant très longtemps (ou pour toujours) ; dans ces cas-là, la marge gauche indique `In [*]:` et l'étoile n'est jamais remplacée par un chiffre.\n",
    "  Il vous **faut alors interrompre** votre kernel ; pour cela utilisez le menu *Kernel* qui a des options pour interrompre ou redémarrer le kernel courant ; les raccourcis clavier `i i` et `0 0` permettent aussi d'interrompre et redémarrer le noyau."
   ]
  },
  {
   "cell_type": "code",
   "execution_count": null,
   "id": "2457b0e1",
   "metadata": {},
   "outputs": [],
   "source": [
    "# à vous de jouer\n",
    "from itertools import *\n",
    "def primes():\n",
    "    smaller_primes = []\n",
    "    for n in count(2):\n",
    "        for k in smaller_primes:\n",
    "            if n%k == 0 :\n",
    "                break\n",
    "        else : \n",
    "            smaller_primes.append(n)\n",
    "            yield n "
   ]
  },
  {
   "cell_type": "code",
   "execution_count": null,
   "id": "3ad536fb",
   "metadata": {},
   "outputs": [],
   "source": [
    "# pour corriger votre code\n",
    "exo_primes.correction(primes)"
   ]
  },
  {
   "cell_type": "markdown",
   "id": "e60b63ff",
   "metadata": {},
   "source": [
    "##### zone de debug"
   ]
  },
  {
   "cell_type": "code",
   "execution_count": null,
   "id": "c55d9aaf",
   "metadata": {},
   "outputs": [],
   "source": [
    "# à toutes fins utiles\n",
    "\n",
    "MAX = 10\n",
    "\n",
    "iterator = primes()\n",
    "\n",
    "for index, prime in enumerate(itertools.islice(iterator, MAX)):\n",
    "    print(f\"{index} -> {prime}\")"
   ]
  },
  {
   "cell_type": "markdown",
   "id": "64dfbb5f",
   "metadata": {},
   "source": [
    "***\n",
    "***\n",
    "***"
   ]
  },
  {
   "cell_type": "markdown",
   "id": "fd4792a5",
   "metadata": {},
   "source": [
    "## 2. Les carrés des nombres premiers"
   ]
  },
  {
   "cell_type": "markdown",
   "id": "f67c5f55",
   "metadata": {},
   "source": [
    "On veut à présent énumérer les carrés des nombres premiers\n",
    "\n",
    "**NOTE** il y a au moins deux façons triviales de parvenir au résultat."
   ]
  },
  {
   "cell_type": "code",
   "execution_count": null,
   "id": "0c4e9ff0",
   "metadata": {},
   "outputs": [],
   "source": [
    "from corrections.gen_primes import exo_prime_squares\n",
    "exo_prime_squares.example()"
   ]
  },
  {
   "cell_type": "code",
   "execution_count": null,
   "id": "521b1ed9",
   "metadata": {},
   "outputs": [],
   "source": [
    "# à vous\n",
    "\n",
    "def prime_squares():\n",
    "    return (x**2 for x in primes())"
   ]
  },
  {
   "cell_type": "code",
   "execution_count": null,
   "id": "8e293699",
   "metadata": {},
   "outputs": [],
   "source": [
    "exo_prime_squares.correction(prime_squares)"
   ]
  },
  {
   "cell_type": "markdown",
   "id": "79b7c59f",
   "metadata": {},
   "source": [
    "***\n",
    "***\n",
    "***"
   ]
  },
  {
   "cell_type": "markdown",
   "id": "9062a885",
   "metadata": {},
   "source": [
    "## 3. Combinaisons d'itérateurs"
   ]
  },
  {
   "cell_type": "markdown",
   "id": "bd86738e",
   "metadata": {},
   "source": [
    "On vous demande d'écrire un itérateur qui énumère des couples :\n",
    "\n",
    "* en première position, on veut trouver les nombres premiers, mais avec un décalage :  \n",
    "  les **cinq premiers tuples** contiennent `1`, puis le sixième contient 2, et à partir de là les nombres premiers ;\n",
    "* en deuxième position, les carrés des nombres premiers, sans décalage :"
   ]
  },
  {
   "cell_type": "markdown",
   "id": "5df33aed",
   "metadata": {},
   "source": [
    "**NOTE**  \n",
    "Il peut être tentant de créer deux instances de l'itérateur `primes()` ; toutefois c'est cet objet qui demande le plus de temps de calcul, aussi on vous suggère de réfléchir, en option, à une solution qui ne crée qu'un seul exemplaire de cet itérateur."
   ]
  },
  {
   "cell_type": "code",
   "execution_count": null,
   "id": "5a56d1db",
   "metadata": {},
   "outputs": [],
   "source": [
    "from corrections.gen_primes import exo_prime_legos\n",
    "exo_prime_legos.example()"
   ]
  },
  {
   "cell_type": "code",
   "execution_count": null,
   "id": "436da182",
   "metadata": {},
   "outputs": [],
   "source": [
    "# à vous de jouer\n",
    "\n",
    "def prime_legos():\n",
    "    return zip(chain(repeat(1, 5), primes()), prime_squares())"
   ]
  },
  {
   "cell_type": "code",
   "execution_count": null,
   "id": "69502142",
   "metadata": {},
   "outputs": [],
   "source": [
    "exo_prime_legos.correction(prime_legos)"
   ]
  },
  {
   "cell_type": "markdown",
   "id": "24461963",
   "metadata": {},
   "source": [
    "##### zone de benchmarking\n",
    "\n",
    "un ordre de grandeur: pour le code suivant, ma solution prend environ 60ms  \n",
    "la cellule, qui fait le calcul 5 * 5 fois, prend environ 2s à afficher le résultat"
   ]
  },
  {
   "cell_type": "code",
   "execution_count": null,
   "id": "a13d2d66",
   "metadata": {},
   "outputs": [],
   "source": [
    "%%timeit -n 5 -r 5\n",
    "\n",
    "N = 10_000\n",
    "\n",
    "P = prime_legos()\n",
    "for x in range(N): next(P)"
   ]
  },
  {
   "cell_type": "markdown",
   "id": "bd65c66f",
   "metadata": {},
   "source": [
    "***\n",
    "***\n",
    "***"
   ]
  },
  {
   "cell_type": "markdown",
   "id": "2b2d991b",
   "metadata": {},
   "source": [
    "## 4. Les $n$-ièmes nombres premiers, avec $n$ premier"
   ]
  },
  {
   "cell_type": "markdown",
   "id": "fa03692c",
   "metadata": {},
   "source": [
    "On vous demande d'implémenter un itérateur qui renvoie les $n$-ièmes nombres premiers, mais seulement pour $n$ premier.\n",
    "\n",
    "Ainsi comme `primes()` retourne la suite\n",
    "\n",
    "| indice | premier |\n",
    "|--------|---------|\n",
    "| 0 | 2 |\n",
    "| 1 | 3 |\n",
    "| 2 | 5 |\n",
    "| 3 | 7 |\n",
    "| 4 | 11|\n",
    "| 5 | 13|\n",
    "| 6 | 17|\n",
    "| 7 | 19|\n",
    "\n",
    "on veut que `prime_th_primes` retourne la suite\n",
    "\n",
    "| indice | premier |\n",
    "|--------|---------|\n",
    "| 0 | 5 |\n",
    "| 1 | 7 |\n",
    "| 2 | 13|\n",
    "| 3 | 19|"
   ]
  },
  {
   "cell_type": "code",
   "execution_count": null,
   "id": "7ed4df15",
   "metadata": {},
   "outputs": [],
   "source": [
    "# ce qui est illustré sur cet exemple calculé, qui va un peu plus loin\n",
    "\n",
    "from corrections.gen_primes import exo_prime_th_primes\n",
    "exo_prime_th_primes.example()"
   ]
  },
  {
   "cell_type": "code",
   "execution_count": null,
   "id": "ebe4fcd1",
   "metadata": {},
   "outputs": [],
   "source": [
    "# À vous de jouer\n",
    "\n",
    "def prime_th_primes():\n",
    "    # souvenez-vous que vous devez retourner un itérateur\n",
    "    return (primes() for i in primes())\n",
    "#je ne trouve pas comment faire"
   ]
  },
  {
   "cell_type": "code",
   "execution_count": null,
   "id": "218c8554",
   "metadata": {},
   "outputs": [],
   "source": [
    "# pour corriger votre code\n",
    "exo_prime_th_primes.correction(prime_th_primes)"
   ]
  },
  {
   "cell_type": "markdown",
   "id": "e34306f7",
   "metadata": {},
   "source": [
    "##### zone de benchmarking\n",
    "\n",
    "un ordre de grandeur: pour le code suivant, ma solution prend environ 150ms  \n",
    "la cellule, qui fait le calcul 3 * 3 fois, prend environ 1.5s à afficher le résultat"
   ]
  },
  {
   "cell_type": "code",
   "execution_count": null,
   "id": "782df3c4",
   "metadata": {},
   "outputs": [],
   "source": [
    "%%timeit -n 3 -r 3\n",
    "\n",
    "N = 2_000\n",
    "\n",
    "P = prime_th_primes()\n",
    "for x in range(N): next(P)"
   ]
  }
 ],
 "metadata": {
  "jupytext": {
   "cell_metadata_filter": "all, -hidden, -heading_collapsed, -run_control, -trusted",
   "encoding": "# -*- coding: utf-8 -*-",
   "notebook_metadata_filter": "all, -jupytext.text_representation.jupytext_version, -jupytext.text_representation.format_version, -language_info.version, -language_info.codemirror_mode.version, -language_info.codemirror_mode, -language_info.file_extension, -language_info.mimetype, -toc",
   "text_representation": {
    "extension": ".md",
    "format_name": "myst"
   }
  },
  "kernelspec": {
   "display_name": "Python 3 (ipykernel)",
   "language": "python",
   "name": "python3"
  },
  "language_info": {
   "name": "python",
   "nbconvert_exporter": "python",
   "pygments_lexer": "ipython3"
  },
  "notebookname": "exercice: nombres premiers",
  "version": "3.0"
 },
 "nbformat": 4,
 "nbformat_minor": 5
}
