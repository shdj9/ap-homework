{
 "cells": [
  {
   "cell_type": "markdown",
   "id": "844ef282",
   "metadata": {},
   "source": [
    "<div class=\"licence\">\n",
    "<span>Licence CC BY-NC-ND</span>\n",
    "<span>Thierry Parmentelat &amp; Arnaud Legout</span>\n",
    "<span><img src=\"media/both-logos-small-alpha.png\" /></span>\n",
    "</div>"
   ]
  },
  {
   "cell_type": "markdown",
   "id": "0f855e2b",
   "metadata": {},
   "source": [
    "## Exercice - niveau intermédiaire+"
   ]
  },
  {
   "cell_type": "markdown",
   "id": "b76c48e6",
   "metadata": {},
   "source": [
    "On veut écrire **une fonction génératrice** qui énumère tous les noeuds d'un arbre en le parcourant en profondeur d'abord.\n",
    "\n",
    "Pour simplifier l'exercice au maximum, nous ne considérons que des entrées constituées de listes et d'entiers."
   ]
  },
  {
   "cell_type": "code",
   "execution_count": null,
   "id": "400e9a32",
   "metadata": {},
   "outputs": [],
   "source": [
    "from corrections.gen_treescanner import exo_treescanner\n",
    "exo_treescanner.example()"
   ]
  },
  {
   "cell_type": "markdown",
   "id": "1d5ba688",
   "metadata": {
    "tags": []
   },
   "source": [
    "la présentation de l'exemple peut laisser penser qu'il faut retourner une liste  \n",
    "mais ce n'est pas ce qui est demandé !  \n",
    "**attention** à bien implémenter **une fonction génératrice**"
   ]
  },
  {
   "cell_type": "code",
   "execution_count": null,
   "id": "b2e935d1",
   "metadata": {},
   "outputs": [],
   "source": [
    "# à vous de jouer\n",
    "def treescanner(tree):\n",
    "    if type(tree) == int : \n",
    "        yield tree\n",
    "    else : \n",
    "        for a in tree : \n",
    "            yield treescanner(a)"
   ]
  },
  {
   "cell_type": "code",
   "execution_count": null,
   "id": "db0604f0",
   "metadata": {},
   "outputs": [],
   "source": [
    "# pour le corriger\n",
    "\n",
    "exo_treescanner.correction(treescanner)"
   ]
  },
  {
   "cell_type": "markdown",
   "id": "953495e4",
   "metadata": {},
   "source": [
    "### indice\n",
    "\n",
    "rappelez-vous que pour parcourir un arbre en profondeur d'abord, un algorithme de parcours récursif est très adapté"
   ]
  }
 ],
 "metadata": {
  "jupytext": {
   "cell_metadata_filter": "all, -hidden, -heading_collapsed, -run_control, -trusted",
   "notebook_metadata_filter": "all, -jupytext.text_representation.jupytext_version, -jupytext.text_representation.format_version, -language_info.version, -language_info.codemirror_mode.version, -language_info.codemirror_mode, -language_info.file_extension, -language_info.mimetype, -toc",
   "text_representation": {
    "extension": ".md",
    "format_name": "myst"
   }
  },
  "kernelspec": {
   "display_name": "Python 3 (ipykernel)",
   "language": "python",
   "name": "python3"
  },
  "language_info": {
   "name": "python",
   "nbconvert_exporter": "python",
   "pygments_lexer": "ipython3"
  },
  "notebookname": "exercice: treescanner",
  "version": "3.0"
 },
 "nbformat": 4,
 "nbformat_minor": 5
}
